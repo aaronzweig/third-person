{
 "cells": [
  {
   "cell_type": "code",
   "execution_count": 1,
   "metadata": {},
   "outputs": [],
   "source": [
    "import numpy as np\n",
    "from numpy.linalg import svd\n",
    "from numpy import sqrt\n",
    "from scipy.optimize import linear_sum_assignment\n",
    "\n",
    "from arsenal.maths import random_dist\n",
    "from mdp import DiscountedMDP, MRP, random_MDP, random_MDP_forward_reward\n",
    "from utils import *"
   ]
  },
  {
   "cell_type": "code",
   "execution_count": 2,
   "metadata": {},
   "outputs": [],
   "source": [
    "def random_planted_MDP(S, A, count, epsilon, gamma=0.95, b = None):\n",
    "    \n",
    "    if b is None: b = S\n",
    "\n",
    "    phi = np.zeros((S,A))\n",
    "    for s in range(S):\n",
    "        phi[s,np.random.randint(A)] = 1\n",
    "    \n",
    "    alive = np.arange(S)[:count]\n",
    "    dead = np.arange(S)[count:]\n",
    "    \n",
    "    s0 = np.zeros(S)\n",
    "    s0[alive] = random_dist(count)\n",
    "    s0[dead] = epsilon * random_dist(S - count)\n",
    "    s0 /= np.sum(s0)\n",
    "\n",
    "    \n",
    "    P = np.zeros((S,A,S))\n",
    "    for s in range(S):\n",
    "        for a in range(A):\n",
    "            if phi[s,a] == 1:\n",
    "                connected = np.random.choice(alive, size=min(count, b), replace=False)\n",
    "                P[s,a,connected] = random_dist(min(count, b))\n",
    "                \n",
    "                connected = np.random.choice(dead, size=b, replace=False)\n",
    "                P[s,a,connected] = epsilon * random_dist(b)\n",
    "                \n",
    "                P[s,a,:] /= np.sum(P[s,a,:])\n",
    "            else:\n",
    "                connected = np.random.choice(S, size=b, replace=False)\n",
    "                P[s,a,connected] = random_dist(b)\n",
    "\n",
    "    R = np.zeros((S,A,S))\n",
    "\n",
    "    mdp = DiscountedMDP(\n",
    "        s0 = s0,\n",
    "        R = R,\n",
    "        P = P,\n",
    "        gamma = gamma,\n",
    "    )\n",
    "\n",
    "    return mdp, phi"
   ]
  },
  {
   "cell_type": "code",
   "execution_count": 3,
   "metadata": {},
   "outputs": [],
   "source": [
    "def generate_isomorphic_mdp(mdp):\n",
    "    S, A, _ = mdp.P.shape\n",
    "    perm = np.random.permutation(S)\n",
    "    Pi = np.zeros((S,S))\n",
    "    I_a = np.eye(A)\n",
    "    \n",
    "    for s in range(S):\n",
    "        Pi[s, perm[s]] = 1\n",
    "    \n",
    "    P = np.transpose(mdp.P, (2, 1, 0))\n",
    "    P = P.reshape((S, A * S))\n",
    "    P_hat = Pi.T @ P @ np.kron(I_a, Pi)\n",
    "    P_hat = P_hat.reshape((S, A, S))\n",
    "    P_hat = np.transpose(P_hat, (2, 1, 0))\n",
    "    \n",
    "    mdp_hat = DiscountedMDP(\n",
    "        s0 = Pi.T @ mdp.s0,\n",
    "        R = np.zeros((S,A,S)),\n",
    "        P = P_hat,\n",
    "        gamma = mdp.gamma,\n",
    "    )\n",
    "    \n",
    "    return mdp_hat, Pi\n",
    "    "
   ]
  },
  {
   "cell_type": "code",
   "execution_count": 4,
   "metadata": {},
   "outputs": [],
   "source": [
    "def factor_approximation(M, u, t):\n",
    "    D = np.diag(u)\n",
    "    I = np.argwhere(u >= t).flatten()\n",
    "\n",
    "    M = subindex(M, I)\n",
    "    D = subindex(D, I)\n",
    "\n",
    "    _, _, Vh = svd(sqrt(D) @ M @ invsqrt(D))\n",
    "    V = Vh.T\n",
    "\n",
    "    colsum = np.sum(V, axis = 0, keepdims = True)\n",
    "    colsum = np.where(colsum > 0, 1, -1)\n",
    "    return V * colsum, I"
   ]
  },
  {
   "cell_type": "code",
   "execution_count": 5,
   "metadata": {},
   "outputs": [],
   "source": [
    "def policy_learning(mdp, phi, t, samples):\n",
    "    m = len(samples)\n",
    "    S, A = phi.shape\n",
    "    Phi = to_policy_matrix(phi)\n",
    "    M = (mdp | phi).P_with_reset()\n",
    "    u = (mdp | phi).d()\n",
    "    \n",
    "    N = np.zeros((S,S))\n",
    "    for i in range(m):\n",
    "        s, sp = samples[i]\n",
    "        N[s, sp] += 1\n",
    "    \n",
    "    u_hat = np.sum(N, axis = 1) / m\n",
    "    \n",
    "    denom = np.sum(N, axis = 1, keepdims = True)\n",
    "    denom[denom == 0] = np.inf\n",
    "    M_hat = N / denom\n",
    "#     M_hat = N / np.sum(N, axis = 1, keepdims = True)\n",
    "#     M_hat = np.nan_to_num(M_hat)\n",
    "    \n",
    "    V, I = factor_approximation(M, u, t)\n",
    "    try:\n",
    "        V_hat, I_hat = factor_approximation(M_hat, u_hat, t)\n",
    "    except np.linalg.LinAlgError:\n",
    "        return None, None\n",
    "    \n",
    "    _, perm = linear_sum_assignment(-1 * V @ V_hat.T)\n",
    "    Pi = np.zeros((S,S))\n",
    "\n",
    "    I_C = np.setdiff1d(np.arange(S), I)\n",
    "    I_hat_C = np.setdiff1d(np.arange(S), I_hat)\n",
    "\n",
    "    dummy_perm = np.random.permutation(I_C.size)\n",
    "    \n",
    "    for s in range(S):\n",
    "        if s in I:\n",
    "            index = np.where(I == s)[0][0]\n",
    "            index = perm[index]\n",
    "            Pi[s, I_hat[index]] = 1\n",
    "        else:\n",
    "            index = np.where(I_C == s)[0][0]\n",
    "            index = dummy_perm[index]\n",
    "            Pi[s, I_hat_C[index]] = 1\n",
    "            \n",
    "            \n",
    "    Phi_hat = np.kron(np.eye(A), Pi.T) @ Phi @ Pi\n",
    "    return from_policy_matrix(Phi_hat), Pi\n",
    "    "
   ]
  },
  {
   "cell_type": "code",
   "execution_count": 6,
   "metadata": {},
   "outputs": [],
   "source": [
    "#####################################################################"
   ]
  },
  {
   "cell_type": "code",
   "execution_count": 7,
   "metadata": {},
   "outputs": [],
   "source": [
    "def run_trial(S, A, count, epsilon, b, sample_total = 10000, gamma = 0.95, planted = True):\n",
    "    if planted:\n",
    "        mdp, phi = random_planted_MDP(S, A, count, epsilon, gamma, b)\n",
    "    else:\n",
    "        mdp = random_MDP(S, A, gamma, b)\n",
    "        vi = mdp.solve_by_policy_iteration()\n",
    "        phi = vi['policy']\n",
    "    \n",
    "    mdp_hat, Pi_star = generate_isomorphic_mdp(mdp)\n",
    "    \n",
    "    Phi = to_policy_matrix(phi)\n",
    "    Phi_star = np.kron(np.eye(A), Pi_star.T) @ Phi @ Pi_star\n",
    "    phi_star = from_policy_matrix(Phi_star)\n",
    "    \n",
    "    samples = draw_samples(mdp_hat, phi_star, sample_total)\n",
    "    \n",
    "    if planted:\n",
    "        u = np.sort(state_occupancy(mdp, phi))[::-1]\n",
    "        t = (u[count-1] + u[count]) / 2\n",
    "        gap = np.abs(u[count-1] - u[count])\n",
    "    else:\n",
    "        t = 0.0\n",
    "        gap = -1\n",
    "\n",
    "    phi_hat, Pi = policy_learning(mdp, phi, t, samples)\n",
    "    if phi_hat is None:\n",
    "        return -999, -999\n",
    "\n",
    "    d = full_occupancy(mdp, phi)\n",
    "    d_hat = full_occupancy(mdp_hat, phi_hat)\n",
    "\n",
    "    return tv(np.kron(np.eye(A), Pi_star.T) @ d.T.flatten(), d_hat.T.flatten()), gap"
   ]
  },
  {
   "cell_type": "code",
   "execution_count": 12,
   "metadata": {},
   "outputs": [],
   "source": [
    "def run_trials(trials, S, A, count, epsilon, b, sample_total = 10000, gamma = 0.95, planted = True):\n",
    "    tvs = []\n",
    "    gaps = []\n",
    "    for _ in range(trials):\n",
    "        diff, gap = run_trial(S, A, count, epsilon, b, sample_total, gamma, planted)\n",
    "        tvs.append(diff)\n",
    "        gaps.append(gap)\n",
    "    tvs = np.array(tvs)\n",
    "    gaps = np.array(gaps)\n",
    "    return np.mean(tvs), np.std(tvs)"
   ]
  },
  {
   "cell_type": "code",
   "execution_count": 13,
   "metadata": {},
   "outputs": [],
   "source": [
    "#####################################################################"
   ]
  },
  {
   "cell_type": "code",
   "execution_count": 21,
   "metadata": {},
   "outputs": [],
   "source": [
    "trials = 30\n",
    "A = 5\n",
    "b = 5\n",
    "sample_total = 50000\n",
    "gamma = 0.95"
   ]
  },
  {
   "cell_type": "code",
   "execution_count": 22,
   "metadata": {},
   "outputs": [
    {
     "name": "stdout",
     "output_type": "stream",
     "text": [
      "(0.07225494386562355, 0.15248898128082403)\n",
      "(0.0645101584506826, 0.1649580473900227)\n"
     ]
    },
    {
     "ename": "KeyboardInterrupt",
     "evalue": "",
     "output_type": "error",
     "traceback": [
      "\u001b[0;31m---------------------------------------------------------------------------\u001b[0m",
      "\u001b[0;31mKeyboardInterrupt\u001b[0m                         Traceback (most recent call last)",
      "\u001b[0;32m<ipython-input-22-baf0e224d871>\u001b[0m in \u001b[0;36m<module>\u001b[0;34m\u001b[0m\n\u001b[1;32m      6\u001b[0m \u001b[0;34m\u001b[0m\u001b[0m\n\u001b[1;32m      7\u001b[0m \u001b[0;32mfor\u001b[0m \u001b[0mS\u001b[0m \u001b[0;32min\u001b[0m \u001b[0;34m[\u001b[0m\u001b[0;36m20\u001b[0m\u001b[0;34m,\u001b[0m \u001b[0;36m40\u001b[0m\u001b[0;34m,\u001b[0m \u001b[0;36m60\u001b[0m\u001b[0;34m,\u001b[0m \u001b[0;36m80\u001b[0m\u001b[0;34m,\u001b[0m \u001b[0;36m100\u001b[0m\u001b[0;34m]\u001b[0m\u001b[0;34m:\u001b[0m\u001b[0;34m\u001b[0m\u001b[0;34m\u001b[0m\u001b[0m\n\u001b[0;32m----> 8\u001b[0;31m     \u001b[0mprint\u001b[0m\u001b[0;34m(\u001b[0m\u001b[0mrun_trials\u001b[0m\u001b[0;34m(\u001b[0m\u001b[0mtrials\u001b[0m\u001b[0;34m,\u001b[0m \u001b[0mS\u001b[0m\u001b[0;34m,\u001b[0m \u001b[0mA\u001b[0m\u001b[0;34m,\u001b[0m \u001b[0mcount\u001b[0m\u001b[0;34m,\u001b[0m \u001b[0mepsilon\u001b[0m\u001b[0;34m,\u001b[0m \u001b[0mb\u001b[0m\u001b[0;34m,\u001b[0m \u001b[0msample_total\u001b[0m\u001b[0;34m,\u001b[0m \u001b[0mgamma\u001b[0m\u001b[0;34m,\u001b[0m \u001b[0mplanted\u001b[0m\u001b[0;34m)\u001b[0m\u001b[0;34m)\u001b[0m\u001b[0;34m\u001b[0m\u001b[0;34m\u001b[0m\u001b[0m\n\u001b[0m",
      "\u001b[0;32m<ipython-input-12-856d0947cd8f>\u001b[0m in \u001b[0;36mrun_trials\u001b[0;34m(trials, S, A, count, epsilon, b, sample_total, gamma, planted)\u001b[0m\n\u001b[1;32m      3\u001b[0m     \u001b[0mgaps\u001b[0m \u001b[0;34m=\u001b[0m \u001b[0;34m[\u001b[0m\u001b[0;34m]\u001b[0m\u001b[0;34m\u001b[0m\u001b[0;34m\u001b[0m\u001b[0m\n\u001b[1;32m      4\u001b[0m     \u001b[0;32mfor\u001b[0m \u001b[0m_\u001b[0m \u001b[0;32min\u001b[0m \u001b[0mrange\u001b[0m\u001b[0;34m(\u001b[0m\u001b[0mtrials\u001b[0m\u001b[0;34m)\u001b[0m\u001b[0;34m:\u001b[0m\u001b[0;34m\u001b[0m\u001b[0;34m\u001b[0m\u001b[0m\n\u001b[0;32m----> 5\u001b[0;31m         \u001b[0mdiff\u001b[0m\u001b[0;34m,\u001b[0m \u001b[0mgap\u001b[0m \u001b[0;34m=\u001b[0m \u001b[0mrun_trial\u001b[0m\u001b[0;34m(\u001b[0m\u001b[0mS\u001b[0m\u001b[0;34m,\u001b[0m \u001b[0mA\u001b[0m\u001b[0;34m,\u001b[0m \u001b[0mcount\u001b[0m\u001b[0;34m,\u001b[0m \u001b[0mepsilon\u001b[0m\u001b[0;34m,\u001b[0m \u001b[0mb\u001b[0m\u001b[0;34m,\u001b[0m \u001b[0msample_total\u001b[0m\u001b[0;34m,\u001b[0m \u001b[0mgamma\u001b[0m\u001b[0;34m,\u001b[0m \u001b[0mplanted\u001b[0m\u001b[0;34m)\u001b[0m\u001b[0;34m\u001b[0m\u001b[0;34m\u001b[0m\u001b[0m\n\u001b[0m\u001b[1;32m      6\u001b[0m         \u001b[0mtvs\u001b[0m\u001b[0;34m.\u001b[0m\u001b[0mappend\u001b[0m\u001b[0;34m(\u001b[0m\u001b[0mdiff\u001b[0m\u001b[0;34m)\u001b[0m\u001b[0;34m\u001b[0m\u001b[0;34m\u001b[0m\u001b[0m\n\u001b[1;32m      7\u001b[0m         \u001b[0mgaps\u001b[0m\u001b[0;34m.\u001b[0m\u001b[0mappend\u001b[0m\u001b[0;34m(\u001b[0m\u001b[0mgap\u001b[0m\u001b[0;34m)\u001b[0m\u001b[0;34m\u001b[0m\u001b[0;34m\u001b[0m\u001b[0m\n",
      "\u001b[0;32m<ipython-input-7-f8e50682b687>\u001b[0m in \u001b[0;36mrun_trial\u001b[0;34m(S, A, count, epsilon, b, sample_total, gamma, planted)\u001b[0m\n\u001b[1;32m     13\u001b[0m     \u001b[0mphi_star\u001b[0m \u001b[0;34m=\u001b[0m \u001b[0mfrom_policy_matrix\u001b[0m\u001b[0;34m(\u001b[0m\u001b[0mPhi_star\u001b[0m\u001b[0;34m)\u001b[0m\u001b[0;34m\u001b[0m\u001b[0;34m\u001b[0m\u001b[0m\n\u001b[1;32m     14\u001b[0m \u001b[0;34m\u001b[0m\u001b[0m\n\u001b[0;32m---> 15\u001b[0;31m     \u001b[0msamples\u001b[0m \u001b[0;34m=\u001b[0m \u001b[0mdraw_samples\u001b[0m\u001b[0;34m(\u001b[0m\u001b[0mmdp_hat\u001b[0m\u001b[0;34m,\u001b[0m \u001b[0mphi_star\u001b[0m\u001b[0;34m,\u001b[0m \u001b[0msample_total\u001b[0m\u001b[0;34m)\u001b[0m\u001b[0;34m\u001b[0m\u001b[0;34m\u001b[0m\u001b[0m\n\u001b[0m\u001b[1;32m     16\u001b[0m \u001b[0;34m\u001b[0m\u001b[0m\n\u001b[1;32m     17\u001b[0m     \u001b[0;32mif\u001b[0m \u001b[0mplanted\u001b[0m\u001b[0;34m:\u001b[0m\u001b[0;34m\u001b[0m\u001b[0;34m\u001b[0m\u001b[0m\n",
      "\u001b[0;32m~/Projects/third-person/utils.py\u001b[0m in \u001b[0;36mdraw_samples\u001b[0;34m(mdp, phi, length)\u001b[0m\n\u001b[1;32m     29\u001b[0m     \u001b[0msamples\u001b[0m \u001b[0;34m=\u001b[0m \u001b[0;34m[\u001b[0m\u001b[0;34m]\u001b[0m\u001b[0;34m\u001b[0m\u001b[0;34m\u001b[0m\u001b[0m\n\u001b[1;32m     30\u001b[0m \u001b[0;34m\u001b[0m\u001b[0m\n\u001b[0;32m---> 31\u001b[0;31m     \u001b[0;32mfor\u001b[0m \u001b[0ms\u001b[0m\u001b[0;34m,\u001b[0m\u001b[0ma\u001b[0m\u001b[0;34m,\u001b[0m\u001b[0mr\u001b[0m\u001b[0;34m,\u001b[0m\u001b[0msp\u001b[0m \u001b[0;32min\u001b[0m \u001b[0mmdp\u001b[0m\u001b[0;34m.\u001b[0m\u001b[0mrun\u001b[0m\u001b[0;34m(\u001b[0m\u001b[0mphi\u001b[0m\u001b[0;34m)\u001b[0m\u001b[0;34m:\u001b[0m\u001b[0;34m\u001b[0m\u001b[0;34m\u001b[0m\u001b[0m\n\u001b[0m\u001b[1;32m     32\u001b[0m         \u001b[0;32mif\u001b[0m \u001b[0mstep\u001b[0m \u001b[0;34m>=\u001b[0m \u001b[0mlength\u001b[0m\u001b[0;34m:\u001b[0m\u001b[0;34m\u001b[0m\u001b[0;34m\u001b[0m\u001b[0m\n\u001b[1;32m     33\u001b[0m             \u001b[0;32mbreak\u001b[0m\u001b[0;34m\u001b[0m\u001b[0;34m\u001b[0m\u001b[0m\n",
      "\u001b[0;32m~/Projects/third-person/mdp.py\u001b[0m in \u001b[0;36mrun\u001b[0;34m(self, π)\u001b[0m\n\u001b[1;32m    181\u001b[0m         \u001b[0;32mwhile\u001b[0m \u001b[0;32mTrue\u001b[0m\u001b[0;34m:\u001b[0m\u001b[0;34m\u001b[0m\u001b[0;34m\u001b[0m\u001b[0m\n\u001b[1;32m    182\u001b[0m             \u001b[0ma\u001b[0m \u001b[0;34m=\u001b[0m \u001b[0mnp\u001b[0m\u001b[0;34m.\u001b[0m\u001b[0mrandom\u001b[0m\u001b[0;34m.\u001b[0m\u001b[0mchoice\u001b[0m\u001b[0;34m(\u001b[0m\u001b[0mπ\u001b[0m\u001b[0;34m.\u001b[0m\u001b[0mshape\u001b[0m\u001b[0;34m[\u001b[0m\u001b[0;36m1\u001b[0m\u001b[0;34m]\u001b[0m\u001b[0;34m,\u001b[0m \u001b[0mp\u001b[0m \u001b[0;34m=\u001b[0m \u001b[0mπ\u001b[0m\u001b[0;34m[\u001b[0m\u001b[0ms\u001b[0m\u001b[0;34m,\u001b[0m\u001b[0;34m:\u001b[0m\u001b[0;34m]\u001b[0m\u001b[0;34m)\u001b[0m\u001b[0;34m\u001b[0m\u001b[0;34m\u001b[0m\u001b[0m\n\u001b[0;32m--> 183\u001b[0;31m             \u001b[0mr\u001b[0m\u001b[0;34m,\u001b[0m \u001b[0msp\u001b[0m \u001b[0;34m=\u001b[0m \u001b[0mself\u001b[0m\u001b[0;34m.\u001b[0m\u001b[0mstep\u001b[0m\u001b[0;34m(\u001b[0m\u001b[0ms\u001b[0m\u001b[0;34m,\u001b[0m \u001b[0ma\u001b[0m\u001b[0;34m)\u001b[0m\u001b[0;34m\u001b[0m\u001b[0;34m\u001b[0m\u001b[0m\n\u001b[0m\u001b[1;32m    184\u001b[0m             \u001b[0;32myield\u001b[0m \u001b[0ms\u001b[0m\u001b[0;34m,\u001b[0m\u001b[0ma\u001b[0m\u001b[0;34m,\u001b[0m\u001b[0mr\u001b[0m\u001b[0;34m,\u001b[0m\u001b[0msp\u001b[0m\u001b[0;34m\u001b[0m\u001b[0;34m\u001b[0m\u001b[0m\n\u001b[1;32m    185\u001b[0m             \u001b[0ms\u001b[0m \u001b[0;34m=\u001b[0m \u001b[0msp\u001b[0m\u001b[0;34m\u001b[0m\u001b[0;34m\u001b[0m\u001b[0m\n",
      "\u001b[0;32m~/Projects/third-person/mdp.py\u001b[0m in \u001b[0;36mstep\u001b[0;34m(self, s, a)\u001b[0m\n\u001b[1;32m    186\u001b[0m \u001b[0;34m\u001b[0m\u001b[0m\n\u001b[1;32m    187\u001b[0m     \u001b[0;32mdef\u001b[0m \u001b[0mstep\u001b[0m\u001b[0;34m(\u001b[0m\u001b[0mself\u001b[0m\u001b[0;34m,\u001b[0m \u001b[0ms\u001b[0m\u001b[0;34m,\u001b[0m \u001b[0ma\u001b[0m\u001b[0;34m)\u001b[0m\u001b[0;34m:\u001b[0m\u001b[0;34m\u001b[0m\u001b[0;34m\u001b[0m\u001b[0m\n\u001b[0;32m--> 188\u001b[0;31m         \u001b[0msp\u001b[0m \u001b[0;34m=\u001b[0m \u001b[0msample\u001b[0m\u001b[0;34m(\u001b[0m\u001b[0mself\u001b[0m\u001b[0;34m.\u001b[0m\u001b[0mP\u001b[0m\u001b[0;34m[\u001b[0m\u001b[0ms\u001b[0m\u001b[0;34m,\u001b[0m\u001b[0ma\u001b[0m\u001b[0;34m,\u001b[0m\u001b[0;34m:\u001b[0m\u001b[0;34m]\u001b[0m\u001b[0;34m)\u001b[0m\u001b[0;34m\u001b[0m\u001b[0;34m\u001b[0m\u001b[0m\n\u001b[0m\u001b[1;32m    189\u001b[0m         \u001b[0mr\u001b[0m \u001b[0;34m=\u001b[0m \u001b[0mself\u001b[0m\u001b[0;34m.\u001b[0m\u001b[0mR\u001b[0m\u001b[0;34m[\u001b[0m\u001b[0ms\u001b[0m\u001b[0;34m,\u001b[0m\u001b[0ma\u001b[0m\u001b[0;34m,\u001b[0m\u001b[0msp\u001b[0m\u001b[0;34m]\u001b[0m\u001b[0;34m\u001b[0m\u001b[0;34m\u001b[0m\u001b[0m\n\u001b[1;32m    190\u001b[0m         \u001b[0;32mif\u001b[0m \u001b[0muniform\u001b[0m\u001b[0;34m(\u001b[0m\u001b[0;36m0\u001b[0m\u001b[0;34m,\u001b[0m\u001b[0;36m1\u001b[0m\u001b[0;34m)\u001b[0m \u001b[0;34m<=\u001b[0m \u001b[0;36m1\u001b[0m\u001b[0;34m-\u001b[0m\u001b[0mself\u001b[0m\u001b[0;34m.\u001b[0m\u001b[0mgamma\u001b[0m\u001b[0;34m:\u001b[0m\u001b[0;34m\u001b[0m\u001b[0;34m\u001b[0m\u001b[0m\n",
      "\u001b[0;32m~/Projects/third-person/arsenal/maths/util.py\u001b[0m in \u001b[0;36msample\u001b[0;34m(w, size)\u001b[0m\n\u001b[1;32m    310\u001b[0m     \"\"\"\n\u001b[1;32m    311\u001b[0m     \u001b[0mc\u001b[0m \u001b[0;34m=\u001b[0m \u001b[0mcumsum\u001b[0m\u001b[0;34m(\u001b[0m\u001b[0mw\u001b[0m\u001b[0;34m)\u001b[0m\u001b[0;34m\u001b[0m\u001b[0;34m\u001b[0m\u001b[0m\n\u001b[0;32m--> 312\u001b[0;31m     \u001b[0mr\u001b[0m \u001b[0;34m=\u001b[0m \u001b[0muniform\u001b[0m\u001b[0;34m(\u001b[0m\u001b[0msize\u001b[0m\u001b[0;34m=\u001b[0m\u001b[0msize\u001b[0m\u001b[0;34m)\u001b[0m\u001b[0;34m\u001b[0m\u001b[0;34m\u001b[0m\u001b[0m\n\u001b[0m\u001b[1;32m    313\u001b[0m     \u001b[0;32mreturn\u001b[0m \u001b[0mc\u001b[0m\u001b[0;34m.\u001b[0m\u001b[0msearchsorted\u001b[0m\u001b[0;34m(\u001b[0m\u001b[0mr\u001b[0m \u001b[0;34m*\u001b[0m \u001b[0mc\u001b[0m\u001b[0;34m[\u001b[0m\u001b[0;34m-\u001b[0m\u001b[0;36m1\u001b[0m\u001b[0;34m]\u001b[0m\u001b[0;34m)\u001b[0m\u001b[0;34m\u001b[0m\u001b[0;34m\u001b[0m\u001b[0m\n\u001b[1;32m    314\u001b[0m \u001b[0;34m\u001b[0m\u001b[0m\n",
      "\u001b[0;31mKeyboardInterrupt\u001b[0m: "
     ]
    }
   ],
   "source": [
    "#Planted runs\n",
    "\n",
    "count = 10\n",
    "epsilon = 0.0001\n",
    "planted = True\n",
    "\n",
    "for S in [20, 40, 60, 80, 100]:\n",
    "    print(run_trials(trials, S, A, count, epsilon, b, sample_total, gamma, planted))"
   ]
  },
  {
   "cell_type": "code",
   "execution_count": 17,
   "metadata": {},
   "outputs": [
    {
     "name": "stdout",
     "output_type": "stream",
     "text": [
      "(0.25270576391401484, 0.2254255853524616)\n",
      "(0.422669617392449, 0.19781312116249314)\n"
     ]
    },
    {
     "name": "stderr",
     "output_type": "stream",
     "text": [
      "/Users/aaronzweig/Projects/third-person/utils.py:75: RuntimeWarning: divide by zero encountered in true_divide\n",
      "  d = 1.0 / sqrt(d)\n",
      "/anaconda3/envs/prime/lib/python3.7/site-packages/ipykernel_launcher.py:8: RuntimeWarning: invalid value encountered in matmul\n",
      "  \n"
     ]
    },
    {
     "name": "stdout",
     "output_type": "stream",
     "text": [
      "(-199.36764814584612, 399.8162011944866)\n",
      "(-499.17021430890816, 499.8297902179589)\n",
      "(-399.1898214589917, 489.74296441607055)\n"
     ]
    }
   ],
   "source": [
    "#Unplanted runs\n",
    "\n",
    "count = 0\n",
    "epsilon = 0\n",
    "planted = False\n",
    "\n",
    "for S in [20, 40, 60, 80, 100]:\n",
    "    print(run_trials(trials, S, A, count, epsilon, b, sample_total, gamma, planted))"
   ]
  },
  {
   "cell_type": "code",
   "execution_count": null,
   "metadata": {},
   "outputs": [],
   "source": []
  }
 ],
 "metadata": {
  "kernelspec": {
   "display_name": "Python [conda env:prime] *",
   "language": "python",
   "name": "conda-env-prime-py"
  },
  "language_info": {
   "codemirror_mode": {
    "name": "ipython",
    "version": 3
   },
   "file_extension": ".py",
   "mimetype": "text/x-python",
   "name": "python",
   "nbconvert_exporter": "python",
   "pygments_lexer": "ipython3",
   "version": "3.7.7"
  }
 },
 "nbformat": 4,
 "nbformat_minor": 2
}
