{
 "cells": [
  {
   "cell_type": "code",
   "execution_count": 1,
   "metadata": {},
   "outputs": [],
   "source": [
    "import numpy as np\n",
    "from numpy.linalg import svd\n",
    "from numpy import sqrt\n",
    "from scipy.optimize import linear_sum_assignment\n",
    "\n",
    "from arsenal.maths import random_dist\n",
    "from mdp import DiscountedMDP, MRP, random_MDP, random_MDP_forward_reward\n",
    "from utils import *"
   ]
  },
  {
   "cell_type": "code",
   "execution_count": 79,
   "metadata": {},
   "outputs": [],
   "source": [
    "def random_planted_MDP(S, A, count, epsilon, gamma=0.95, b = None):\n",
    "    \n",
    "    if b is None: b = S\n",
    "\n",
    "    phi = np.zeros((S,A))\n",
    "    for s in range(S):\n",
    "        phi[s,np.random.randint(A)] = 1\n",
    "    \n",
    "    alive = np.arange(S)[:count]\n",
    "    dead = np.arange(S)[count:]\n",
    "    \n",
    "    s0 = np.zeros(S)\n",
    "    \n",
    "    s0[alive] = random_dist(count)\n",
    "#     s0[dead] = epsilon * random_dist(S - count)\n",
    "#     s0 /= np.sum(s0)\n",
    "\n",
    "    \n",
    "    P = np.zeros((S,A,S))\n",
    "    for s in range(S):\n",
    "        for a in range(A):\n",
    "            if phi[s,a] == 1:\n",
    "                connected = np.random.choice(alive, size=min(count, b), replace=False)\n",
    "                P[s,a,connected] = (1-epsilon) * random_dist(min(count, b))\n",
    "                \n",
    "                connected = np.random.choice(dead, size=b, replace=False)\n",
    "                P[s,a,connected] = epsilon * random_dist(b)\n",
    "                \n",
    "                P[s,a,:] /= np.sum(P[s,a,:])\n",
    "            else:\n",
    "                connected = np.random.choice(S, size=b, replace=False)\n",
    "                P[s,a,connected] = random_dist(b)\n",
    "\n",
    "    R = np.zeros((S,A,S))\n",
    "\n",
    "    mdp = DiscountedMDP(\n",
    "        s0 = s0,\n",
    "        R = R,\n",
    "        P = P,\n",
    "        gamma = gamma,\n",
    "    )\n",
    "\n",
    "    return mdp, phi"
   ]
  },
  {
   "cell_type": "code",
   "execution_count": 80,
   "metadata": {},
   "outputs": [],
   "source": [
    "def generate_isomorphic_mdp(mdp):\n",
    "    S, A, _ = mdp.P.shape\n",
    "    perm = np.random.permutation(S)\n",
    "    Pi = np.zeros((S,S))\n",
    "    I_a = np.eye(A)\n",
    "    \n",
    "    for s in range(S):\n",
    "        Pi[s, perm[s]] = 1\n",
    "    \n",
    "    P = np.transpose(mdp.P, (2, 1, 0))\n",
    "    P = P.reshape((S, A * S))\n",
    "    P_hat = Pi.T @ P @ np.kron(I_a, Pi)\n",
    "    P_hat = P_hat.reshape((S, A, S))\n",
    "    P_hat = np.transpose(P_hat, (2, 1, 0))\n",
    "    \n",
    "    mdp_hat = DiscountedMDP(\n",
    "        s0 = Pi.T @ mdp.s0,\n",
    "        R = np.zeros((S,A,S)),\n",
    "        P = P_hat,\n",
    "        gamma = mdp.gamma,\n",
    "    )\n",
    "    \n",
    "    return mdp_hat, Pi\n",
    "    "
   ]
  },
  {
   "cell_type": "code",
   "execution_count": 81,
   "metadata": {},
   "outputs": [],
   "source": [
    "def factor_approximation(M, u, t):\n",
    "    D = np.diag(u)\n",
    "    I = np.argwhere(u >= t).flatten()\n",
    "\n",
    "    M = subindex(M, I)\n",
    "    D = subindex(D, I)\n",
    "\n",
    "    _, _, Vh = svd(sqrt(D) @ M @ invsqrt(D))\n",
    "    V = Vh.T\n",
    "\n",
    "    colsum = np.sum(V, axis = 0, keepdims = True)\n",
    "    colsum = np.where(colsum > 0, 1, -1)\n",
    "    return V * colsum, I"
   ]
  },
  {
   "cell_type": "code",
   "execution_count": 82,
   "metadata": {},
   "outputs": [],
   "source": [
    "def policy_learning(mdp, phi, t, samples):\n",
    "    m = len(samples)\n",
    "    S, A = phi.shape\n",
    "    Phi = to_policy_matrix(phi)\n",
    "    M = (mdp | phi).P_with_reset()\n",
    "    u = (mdp | phi).d()\n",
    "    \n",
    "    N = np.zeros((S,S))\n",
    "    for i in range(m):\n",
    "        s, sp = samples[i]\n",
    "        N[s, sp] += 1\n",
    "    \n",
    "    u_hat = np.sum(N, axis = 1) / m\n",
    "    \n",
    "    denom = np.sum(N, axis = 1, keepdims = True)\n",
    "    denom[denom == 0] = np.inf\n",
    "    M_hat = N / denom\n",
    "#     M_hat = N / np.sum(N, axis = 1, keepdims = True)\n",
    "#     M_hat = np.nan_to_num(M_hat)\n",
    "    \n",
    "    V, I = factor_approximation(M, u, t)\n",
    "    try:\n",
    "        V_hat, I_hat = factor_approximation(M_hat, u_hat, t)\n",
    "    except np.linalg.LinAlgError:\n",
    "        return None, None\n",
    "    \n",
    "    _, perm = linear_sum_assignment(-1 * V @ V_hat.T)\n",
    "    Pi = np.zeros((S,S))\n",
    "\n",
    "    I_C = np.setdiff1d(np.arange(S), I)\n",
    "    I_hat_C = np.setdiff1d(np.arange(S), I_hat)\n",
    "\n",
    "    dummy_perm = np.random.permutation(I_C.size)\n",
    "    \n",
    "    for s in range(S):\n",
    "        if s in I:\n",
    "            index = np.where(I == s)[0][0]\n",
    "            index = perm[index]\n",
    "            Pi[s, I_hat[index]] = 1\n",
    "        else:\n",
    "            index = np.where(I_C == s)[0][0]\n",
    "            index = dummy_perm[index]\n",
    "            Pi[s, I_hat_C[index]] = 1\n",
    "            \n",
    "            \n",
    "    Phi_hat = np.kron(np.eye(A), Pi.T) @ Phi @ Pi\n",
    "    return from_policy_matrix(Phi_hat), Pi\n",
    "    "
   ]
  },
  {
   "cell_type": "code",
   "execution_count": 83,
   "metadata": {},
   "outputs": [],
   "source": [
    "#####################################################################"
   ]
  },
  {
   "cell_type": "code",
   "execution_count": 100,
   "metadata": {},
   "outputs": [],
   "source": [
    "def run_trial(S, A, count, epsilon, b, sample_total = 10000, gamma = 0.95, planted = True):\n",
    "    if planted:\n",
    "        mdp, phi = random_planted_MDP(S, A, count, epsilon, gamma, b)\n",
    "    else:\n",
    "        mdp = random_MDP(S, A, gamma, b)\n",
    "        vi = mdp.solve_by_policy_iteration()\n",
    "        phi = vi['policy']\n",
    "    \n",
    "    mdp_hat, Pi_star = generate_isomorphic_mdp(mdp)\n",
    "    \n",
    "    Phi = to_policy_matrix(phi)\n",
    "    Phi_star = np.kron(np.eye(A), Pi_star.T) @ Phi @ Pi_star\n",
    "    phi_star = from_policy_matrix(Phi_star)\n",
    "    \n",
    "    samples = draw_samples(mdp_hat, phi_star, sample_total)\n",
    "    \n",
    "    if planted:\n",
    "        u = np.sort(state_occupancy(mdp, phi))[::-1]\n",
    "        t = (u[count-1] + u[count]) / 2\n",
    "        gap = np.abs(u[count-1] - u[count])\n",
    "    else:\n",
    "        t = 0.0\n",
    "        gap = -1\n",
    "\n",
    "    phi_hat, Pi = policy_learning(mdp, phi, t, samples)\n",
    "    \n",
    "    #Random permutation if divide-by-zero error from insufficient samples\n",
    "    if phi_hat is None:\n",
    "        perm = np.random.permutation(S)\n",
    "        Pi = np.zeros((S,S))\n",
    "        for s in range(S):\n",
    "            Pi[s, perm[s]] = 1\n",
    "        Phi_hat = np.kron(np.eye(A), Pi.T) @ Phi @ Pi\n",
    "        phi_hat = from_policy_matrix(Phi_hat)\n",
    "\n",
    "    d = full_occupancy(mdp, phi)\n",
    "    d_hat = full_occupancy(mdp_hat, phi_hat)\n",
    "\n",
    "    return tv(np.kron(np.eye(A), Pi_star.T) @ d.T.flatten(), d_hat.T.flatten()), gap"
   ]
  },
  {
   "cell_type": "code",
   "execution_count": 101,
   "metadata": {},
   "outputs": [],
   "source": [
    "def run_trials(trials, S, A, count, epsilon, b, sample_total = 10000, gamma = 0.95, planted = True):\n",
    "    tvs = []\n",
    "    gaps = []\n",
    "    for _ in range(trials):\n",
    "        diff, gap = run_trial(S, A, count, epsilon, b, sample_total, gamma, planted)\n",
    "        tvs.append(diff)\n",
    "        gaps.append(gap)\n",
    "    tvs = np.array(tvs)\n",
    "    gaps = np.array(gaps)\n",
    "    return np.mean(tvs), np.std(tvs)"
   ]
  },
  {
   "cell_type": "code",
   "execution_count": 102,
   "metadata": {},
   "outputs": [],
   "source": [
    "#####################################################################"
   ]
  },
  {
   "cell_type": "code",
   "execution_count": 103,
   "metadata": {},
   "outputs": [],
   "source": [
    "trials = 20\n",
    "A = 5\n",
    "b = 5\n",
    "S = 100\n",
    "gamma = 0.95"
   ]
  },
  {
   "cell_type": "code",
   "execution_count": 104,
   "metadata": {},
   "outputs": [
    {
     "name": "stdout",
     "output_type": "stream",
     "text": [
      "(0.14592243414676903, 0.29726027171164277)\n",
      "(0.07422775799168238, 0.2219057750954345)\n",
      "(0.00031294499037486133, 8.376660636339191e-05)\n"
     ]
    }
   ],
   "source": [
    "#Planted runs\n",
    "\n",
    "count = 5\n",
    "epsilon = 0.0001\n",
    "planted = True\n",
    "\n",
    "for sample_total in [1e3, 1e4, 1e5]:\n",
    "    print(run_trials(trials, S, A, count, epsilon, b, sample_total, gamma, planted))"
   ]
  },
  {
   "cell_type": "code",
   "execution_count": 105,
   "metadata": {},
   "outputs": [
    {
     "name": "stderr",
     "output_type": "stream",
     "text": [
      "/anaconda3/envs/prime/lib/python3.7/site-packages/ipykernel_launcher.py:8: RuntimeWarning: invalid value encountered in matmul\n",
      "  \n"
     ]
    },
    {
     "name": "stdout",
     "output_type": "stream",
     "text": [
      "(0.8800934186455953, 0.03355774375931906)\n",
      "(0.781238323122904, 0.11284426048561891)\n",
      "(0.22991348754150995, 0.17774927314329664)\n"
     ]
    }
   ],
   "source": [
    "#Unplanted runs\n",
    "\n",
    "count = 0\n",
    "epsilon = 0\n",
    "planted = False\n",
    "\n",
    "for sample_total in [1e3, 1e4, 1e5]:\n",
    "    print(run_trials(trials, S, A, count, epsilon, b, sample_total, gamma, planted))"
   ]
  },
  {
   "cell_type": "code",
   "execution_count": null,
   "metadata": {},
   "outputs": [],
   "source": []
  }
 ],
 "metadata": {
  "kernelspec": {
   "display_name": "Python [conda env:prime] *",
   "language": "python",
   "name": "conda-env-prime-py"
  },
  "language_info": {
   "codemirror_mode": {
    "name": "ipython",
    "version": 3
   },
   "file_extension": ".py",
   "mimetype": "text/x-python",
   "name": "python",
   "nbconvert_exporter": "python",
   "pygments_lexer": "ipython3",
   "version": "3.7.7"
  }
 },
 "nbformat": 4,
 "nbformat_minor": 2
}
